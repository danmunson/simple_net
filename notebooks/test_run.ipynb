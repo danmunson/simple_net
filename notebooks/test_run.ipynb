{
 "cells": [
  {
   "cell_type": "code",
   "execution_count": 93,
   "metadata": {},
   "outputs": [],
   "source": [
    "import sys\n",
    "sys.path.append(\"/Users/danielmunson/dev/simple_net\")\n",
    "\n",
    "from pprint import pprint"
   ]
  },
  {
   "cell_type": "code",
   "execution_count": 94,
   "metadata": {},
   "outputs": [],
   "source": [
    "import numpy as np\n",
    "\n",
    "from simple_net.components.network import Network\n",
    "from simple_net.functions.utils import vectorize\n",
    "from simple_net.functions.cost import (\n",
    "    mean_squared_error,\n",
    "    mse_gradient,\n",
    "    arithmetic_mean\n",
    ")\n",
    "from simple_net.functions.activations import (\n",
    "    sigmoid, ddx_sigmoid\n",
    ")\n",
    "\n",
    "from simple_net.misc.experimentation import generate_polynomial_map"
   ]
  },
  {
   "cell_type": "code",
   "execution_count": 95,
   "metadata": {},
   "outputs": [],
   "source": [
    "layers = [50, 30, 10]\n",
    "IN_DIMS = 50\n",
    "OUT_DIMS = 10\n",
    "rand_poly, definition = generate_polynomial_map(IN_DIMS, OUT_DIMS)\n",
    "\n",
    "NN = Network(\n",
    "    layer_dims = layers,\n",
    "    activations = [sigmoid for _ in layers],\n",
    "    activation_derivatives = [ddx_sigmoid for _ in layers],\n",
    "    cost_function = mean_squared_error,\n",
    "    cost_gradient = mse_gradient,\n",
    "    learning_rate = 1,\n",
    "    gradient_aggregator = arithmetic_mean\n",
    ")"
   ]
  },
  {
   "cell_type": "code",
   "execution_count": 96,
   "metadata": {},
   "outputs": [
    {
     "data": {
      "text/plain": [
       "'\\n# proof of gradient descent concept\\n# show that average cost is apprx. monotonic decreasing over time\\ntest_features = [np.random.randn(IN_DIMS) for __ in range(500)]\\ntest_answers = [rand_poly(ftrs) for ftrs in test_features]\\nfor _ in range(200):\\n    NN.run_epoch(test_features, test_answers)\\n'"
      ]
     },
     "execution_count": 96,
     "metadata": {},
     "output_type": "execute_result"
    }
   ],
   "source": [
    "\"\"\"\n",
    "# proof of gradient descent concept\n",
    "# show that average cost is apprx. monotonic decreasing over time\n",
    "test_features = [np.random.randn(IN_DIMS) for __ in range(500)]\n",
    "test_answers = [rand_poly(ftrs) for ftrs in test_features]\n",
    "for _ in range(200):\n",
    "    NN.run_epoch(test_features, test_answers)\n",
    "\"\"\""
   ]
  },
  {
   "cell_type": "code",
   "execution_count": null,
   "metadata": {},
   "outputs": [],
   "source": [
    "# 200 iterations\n",
    "for _ in range(20000):\n",
    "    # twenty samples per batch\n",
    "    test_features = [np.random.randn(IN_DIMS) for __ in range(50)]\n",
    "    test_answers = [rand_poly(ftrs) for ftrs in test_features]\n",
    "    NN.run_epoch(test_features, test_answers)"
   ]
  },
  {
   "cell_type": "code",
   "execution_count": null,
   "metadata": {},
   "outputs": [],
   "source": [
    "pprint([data['average_cost'] for data in NN._epochs[:20]])\n",
    "pprint([data['average_cost'] for data in NN._epochs[-20:]])"
   ]
  },
  {
   "cell_type": "code",
   "execution_count": null,
   "metadata": {},
   "outputs": [],
   "source": []
  }
 ],
 "metadata": {
  "kernelspec": {
   "display_name": "Python [conda env:simple-net] *",
   "language": "python",
   "name": "conda-env-simple-net-py"
  },
  "language_info": {
   "codemirror_mode": {
    "name": "ipython",
    "version": 3
   },
   "file_extension": ".py",
   "mimetype": "text/x-python",
   "name": "python",
   "nbconvert_exporter": "python",
   "pygments_lexer": "ipython3",
   "version": "3.7.5"
  }
 },
 "nbformat": 4,
 "nbformat_minor": 4
}
