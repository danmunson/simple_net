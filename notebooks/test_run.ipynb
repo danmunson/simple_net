{
 "cells": [
  {
   "cell_type": "code",
   "execution_count": 1,
   "metadata": {},
   "outputs": [],
   "source": [
    "import sys\n",
    "sys.path.append(\"/Users/danielmunson/dev/simple_net\")\n",
    "\n",
    "from pprint import pprint"
   ]
  },
  {
   "cell_type": "code",
   "execution_count": 2,
   "metadata": {},
   "outputs": [],
   "source": [
    "import numpy as np\n",
    "\n",
    "from simple_net.components.network import Network\n",
    "from simple_net.functions.utils import vectorize\n",
    "from simple_net.functions.cost import (\n",
    "    mean_squared_error,\n",
    "    mse_gradient,\n",
    "    arithmetic_mean\n",
    ")\n",
    "from simple_net.functions.activations import (\n",
    "    sigmoid, ddx_sigmoid\n",
    ")"
   ]
  },
  {
   "cell_type": "code",
   "execution_count": 3,
   "metadata": {},
   "outputs": [],
   "source": [
    "test_features, test_answers = zip(*[\n",
    "    (np.random.rand(50), np.random.rand(10)) for i in range(20)\n",
    "])"
   ]
  },
  {
   "cell_type": "code",
   "execution_count": 4,
   "metadata": {},
   "outputs": [],
   "source": [
    "layers = [50, 30, 10]\n",
    "NN = Network(\n",
    "    layer_dims = layers,\n",
    "    activations = [sigmoid for _ in layers],\n",
    "    activation_derivatives = [ddx_sigmoid for _ in layers],\n",
    "    cost_function = mean_squared_error,\n",
    "    cost_gradient = mse_gradient,\n",
    "    learning_rate = 5,\n",
    "    gradient_aggregator = arithmetic_mean\n",
    ")"
   ]
  },
  {
   "cell_type": "code",
   "execution_count": 5,
   "metadata": {},
   "outputs": [
    {
     "name": "stdout",
     "output_type": "stream",
     "text": [
      "array([-0.32244909,  0.77972358, -1.14418386, -0.3218481 ,  0.03610794,\n",
      "       -1.76658312,  0.68030744, -1.2657485 ,  1.71617365,  0.15433448,\n",
      "        0.10355731,  2.09235789, -0.24976951,  1.93824961,  2.18853154,\n",
      "       -0.15224834,  0.30266864,  0.30906514,  0.32070375,  0.79705328,\n",
      "       -0.70272505, -0.40341493,  0.88691449, -0.21133998, -1.00945083,\n",
      "       -1.07886014,  0.56723692, -0.33086629,  2.35314633, -1.6524033 ])\n",
      "array([-0.67581468,  0.06537781, -0.42427549, -1.303061  , -0.26634136,\n",
      "        0.24318272,  0.22746583,  0.29992697, -0.61692591, -0.50336644])\n"
     ]
    }
   ],
   "source": [
    "for layer in NN._layers:\n",
    "    pprint(layer._bias)"
   ]
  },
  {
   "cell_type": "code",
   "execution_count": 6,
   "metadata": {},
   "outputs": [
    {
     "name": "stdout",
     "output_type": "stream",
     "text": [
      "[ 1.13939618e-02  1.74185155e-02 -2.88823824e-01  3.14942686e-01\n",
      " -5.55037270e-02 -1.56581772e-02 -9.74779326e-03  1.29696950e-01\n",
      "  3.11777874e-04  3.87985402e-01]\n",
      "[-5.16721726e-02 -2.25292725e-02  1.76318322e-02  9.22548627e-06\n",
      "  6.05929427e-02  1.18095029e-02  1.38581851e-04  1.56999073e-03\n",
      "  8.18274468e-03 -2.24204846e-02  8.98579519e-02  2.57836292e-02\n",
      " -2.91966065e-02  5.42035164e-04 -1.54717367e-02  5.66624790e-02\n",
      "  4.91919182e-05  6.59594321e-02 -4.68356589e-02  1.82961797e-01\n",
      " -2.39806923e-01 -1.43213313e-03 -1.38892218e-02  6.88910164e-02\n",
      "  1.10712448e-01  2.37137708e-03  3.55547305e-03 -2.63212516e-02\n",
      " -1.21652857e-02 -2.86495370e-02]\n"
     ]
    }
   ],
   "source": [
    "NN.run_epoch(test_features[:5], test_answers[:5])"
   ]
  },
  {
   "cell_type": "code",
   "execution_count": 7,
   "metadata": {},
   "outputs": [
    {
     "name": "stdout",
     "output_type": "stream",
     "text": [
      "array([-0.37412126,  0.75719431, -1.12655203, -0.32183887,  0.09670088,\n",
      "       -1.75477362,  0.68044602, -1.26417851,  1.7243564 ,  0.131914  ,\n",
      "        0.19341526,  2.11814152, -0.27896611,  1.93879164,  2.1730598 ,\n",
      "       -0.09558586,  0.30271783,  0.37502457,  0.2738681 ,  0.98001508,\n",
      "       -0.94253197, -0.40484707,  0.87302527, -0.14244897, -0.89873838,\n",
      "       -1.07648876,  0.57079239, -0.35718754,  2.34098104, -1.68105284])\n",
      "array([-0.66442072,  0.08279633, -0.71309931, -0.98811831, -0.32184509,\n",
      "        0.22752454,  0.21771803,  0.42962392, -0.61661413, -0.11538104])\n",
      "[{'aggregate_gradient': array([-0.39562149, -0.69905791,  0.26221634, -0.43229759,  0.42281006,\n",
      "        0.43129333,  0.03475647, -0.24963921, -0.61605107, -0.33944481]),\n",
      "  'cost_values': (1.861476559305234,\n",
      "                  2.864350654830183,\n",
      "                  3.568031993355209,\n",
      "                  2.912855940624229,\n",
      "                  2.4642316840852585),\n",
      "  'gradients': (array([ 0.02509675, -0.9205565 , -0.26355017, -0.09173344,  0.18511888,\n",
      "        0.50340817, -0.22427624, -0.03639705, -0.76518882, -0.10354445]),\n",
      "                array([-0.08526662, -0.38583462,  0.60198934, -0.81171686,  0.76437961,\n",
      "        0.09076373, -0.3255877 , -0.6727546 , -0.72914303, -0.06454897]),\n",
      "                array([-0.76315933, -0.76788178,  0.51608986,  0.04499954,  0.37913707,\n",
      "        0.86640367,  0.37828737, -0.02448773, -0.91664648, -0.49926116]),\n",
      "                array([-0.39316498, -0.94296114,  0.59827036, -0.52730454,  0.64811853,\n",
      "        0.43819821, -0.22334106, -0.60353126, -0.17335791, -0.42055268]),\n",
      "                array([-0.76161327, -0.47805554, -0.1417177 , -0.77573266,  0.13729621,\n",
      "        0.25769287,  0.56869998,  0.08897458, -0.49591912, -0.60931679]))}]\n"
     ]
    }
   ],
   "source": [
    "for layer in NN._layers:\n",
    "    pprint(layer._bias)\n",
    "\n",
    "pprint(NN._epochs)"
   ]
  },
  {
   "cell_type": "code",
   "execution_count": null,
   "metadata": {},
   "outputs": [],
   "source": []
  }
 ],
 "metadata": {
  "kernelspec": {
   "display_name": "Python [conda env:simple-net] *",
   "language": "python",
   "name": "conda-env-simple-net-py"
  },
  "language_info": {
   "codemirror_mode": {
    "name": "ipython",
    "version": 3
   },
   "file_extension": ".py",
   "mimetype": "text/x-python",
   "name": "python",
   "nbconvert_exporter": "python",
   "pygments_lexer": "ipython3",
   "version": "3.7.5"
  }
 },
 "nbformat": 4,
 "nbformat_minor": 4
}
