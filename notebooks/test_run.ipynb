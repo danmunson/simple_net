{
 "cells": [
  {
   "cell_type": "code",
   "execution_count": 12,
   "metadata": {},
   "outputs": [],
   "source": [
    "import sys\n",
    "sys.path.append(\"/Users/danielmunson/dev/simple_net\")"
   ]
  },
  {
   "cell_type": "code",
   "execution_count": 13,
   "metadata": {},
   "outputs": [],
   "source": [
    "import numpy as np\n",
    "\n",
    "from simple_net.components.network import Network\n",
    "from simple_net.functions.utils import vectorize\n",
    "from simple_net.functions.cost import (\n",
    "    mean_squared_error,\n",
    "    mse_gradient,\n",
    "    arithmetic_mean\n",
    ")\n",
    "from simple_net.functions.activations import (\n",
    "    sigmoid, ddx_sigmoid\n",
    ")"
   ]
  },
  {
   "cell_type": "code",
   "execution_count": 14,
   "metadata": {},
   "outputs": [],
   "source": [
    "test_features, test_answers = zip(*[\n",
    "    (np.random.rand(50), np.random.rand(10)) for i in range(20)\n",
    "])"
   ]
  },
  {
   "cell_type": "code",
   "execution_count": 17,
   "metadata": {},
   "outputs": [
    {
     "data": {
      "text/plain": [
       "array([0.40601295, 0.59781297, 0.38953065, 0.31994755, 0.72843027,\n",
       "       0.86301219, 0.1252178 , 0.35051788, 0.78593932, 0.14415917])"
      ]
     },
     "execution_count": 17,
     "metadata": {},
     "output_type": "execute_result"
    }
   ],
   "source": [
    "NN = Network(\n",
    "    layer_dims = [50, 30, 10],\n",
    "    activations = [s]\n",
    ")"
   ]
  },
  {
   "cell_type": "code",
   "execution_count": null,
   "metadata": {},
   "outputs": [],
   "source": []
  }
 ],
 "metadata": {
  "kernelspec": {
   "display_name": "Python [conda env:simple-net] *",
   "language": "python",
   "name": "conda-env-simple-net-py"
  },
  "language_info": {
   "codemirror_mode": {
    "name": "ipython",
    "version": 3
   },
   "file_extension": ".py",
   "mimetype": "text/x-python",
   "name": "python",
   "nbconvert_exporter": "python",
   "pygments_lexer": "ipython3",
   "version": "3.7.5"
  }
 },
 "nbformat": 4,
 "nbformat_minor": 4
}
