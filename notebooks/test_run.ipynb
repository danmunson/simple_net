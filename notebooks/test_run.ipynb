{
 "cells": [
  {
   "cell_type": "code",
   "execution_count": 71,
   "metadata": {},
   "outputs": [],
   "source": [
    "import sys\n",
    "sys.path.append(\"/Users/danielmunson/dev/simple_net\")\n",
    "\n",
    "from pprint import pprint"
   ]
  },
  {
   "cell_type": "code",
   "execution_count": 72,
   "metadata": {},
   "outputs": [],
   "source": [
    "import numpy as np\n",
    "import matplotlib.pyplot as plt\n",
    "\n",
    "from simple_net.components.network import Network\n",
    "from simple_net.functions.utils import vectorize\n",
    "from simple_net.functions.cost import (\n",
    "    mean_squared_error,\n",
    "    mse_gradient,\n",
    "    arithmetic_mean\n",
    ")\n",
    "from simple_net.functions.activations import (\n",
    "    sigmoid, ddx_sigmoid\n",
    ")\n",
    "\n",
    "from simple_net.misc.experimentation import generate_polynomial_map"
   ]
  },
  {
   "cell_type": "code",
   "execution_count": 78,
   "metadata": {},
   "outputs": [],
   "source": [
    "layers = [3, 50, 100, 50, 3]\n",
    "IN_DIMS = layers[0]\n",
    "OUT_DIMS = layers[-1]\n",
    "rand_poly, definition = generate_polynomial_map(IN_DIMS, OUT_DIMS)\n",
    "\n",
    "NN = Network(\n",
    "    layer_dims = layers,\n",
    "    activations = [sigmoid for _ in layers], # will automatically vectorize\n",
    "    activation_derivatives = [ddx_sigmoid for _ in layers], # will automatically vectorize\n",
    "    cost_function = mean_squared_error,\n",
    "    cost_gradient = mse_gradient,\n",
    "    learning_rate = 1,\n",
    "    gradient_aggregator = arithmetic_mean\n",
    ")"
   ]
  },
  {
   "cell_type": "code",
   "execution_count": 79,
   "metadata": {},
   "outputs": [],
   "source": [
    "MODE = \"TEST\" # {TEST, PROOF}"
   ]
  },
  {
   "cell_type": "code",
   "execution_count": 80,
   "metadata": {},
   "outputs": [],
   "source": [
    "if MODE == \"PROOF\":\n",
    "    # proof of gradient descent concept\n",
    "    # show that average cost is apprx. monotonic decreasing over time\n",
    "    test_features = [np.random.randn(IN_DIMS) for __ in range(500)]\n",
    "    test_answers = [rand_poly(ftrs) for ftrs in test_features]\n",
    "    for _ in range(200):\n",
    "        predictions = NN.run_epoch(test_features, test_answers)\n"
   ]
  },
  {
   "cell_type": "code",
   "execution_count": 81,
   "metadata": {},
   "outputs": [
    {
     "name": "stdout",
     "output_type": "stream",
     "text": [
      "before: [2 2 2]\n",
      "after: [2 2 2]\n"
     ]
    }
   ],
   "source": [
    "if MODE == \"TEST\":\n",
    "    \n",
    "    baseline_input = [1 for _ in range(IN_DIMS)]\n",
    "    before = rand_poly(baseline_input)\n",
    "\n",
    "    for _ in range(100):\n",
    "        # twenty samples per batch\n",
    "        test_features = [np.random.randn(IN_DIMS) for __ in range(5000)]\n",
    "        test_answers = [rand_poly(ftrs) for ftrs in test_features]\n",
    "        predictions = NN.run_epoch(test_features, test_answers)\n",
    "\n",
    "    after = rand_poly(baseline_input)\n",
    "\n",
    "    print('before:', before)\n",
    "    print('after:', after)\n"
   ]
  },
  {
   "cell_type": "code",
   "execution_count": 82,
   "metadata": {},
   "outputs": [
    {
     "data": {
      "image/png": "[encoded data removed]",
      "text/plain": [
       "<Figure size 432x288 with 1 Axes>"
      ]
     },
     "metadata": {
      "needs_background": "light"
     },
     "output_type": "display_data"
    }
   ],
   "source": [
    "plt.plot(\n",
    "    [i for i in range(len(NN._epochs))],\n",
    "    [data['average_cost'] for data in NN._epochs]\n",
    ")\n",
    "plt.ylabel('Average Cost')\n",
    "plt.show()"
   ]
  },
  {
   "cell_type": "code",
   "execution_count": null,
   "metadata": {},
   "outputs": [],
   "source": []
  }
 ],
 "metadata": {
  "kernelspec": {
   "display_name": "Python [conda env:simple-net] *",
   "language": "python",
   "name": "conda-env-simple-net-py"
  },
  "language_info": {
   "codemirror_mode": {
    "name": "ipython",
    "version": 3
   },
   "file_extension": ".py",
   "mimetype": "text/x-python",
   "name": "python",
   "nbconvert_exporter": "python",
   "pygments_lexer": "ipython3",
   "version": "3.7.5"
  }
 },
 "nbformat": 4,
 "nbformat_minor": 4
}
