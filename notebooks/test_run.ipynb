{
 "cells": [
  {
   "cell_type": "code",
   "execution_count": 19,
   "metadata": {},
   "outputs": [],
   "source": [
    "import sys\n",
    "sys.path.append(\"/Users/danielmunson/dev/simple_net\")\n",
    "\n",
    "from pprint import pprint"
   ]
  },
  {
   "cell_type": "code",
   "execution_count": 20,
   "metadata": {},
   "outputs": [],
   "source": [
    "import numpy as np\n",
    "import matplotlib.pyplot as plt\n",
    "\n",
    "from simple_net.components.network import Network\n",
    "from simple_net.functions.utils import vectorize\n",
    "from simple_net.functions.cost import (\n",
    "    mean_squared_error,\n",
    "    mse_gradient,\n",
    "    arithmetic_mean\n",
    ")\n",
    "from simple_net.functions.activations import (\n",
    "    sigmoid, ddx_sigmoid\n",
    ")\n",
    "\n",
    "from simple_net.misc.experimentation import generate_polynomial_map"
   ]
  },
  {
   "cell_type": "code",
   "execution_count": 21,
   "metadata": {},
   "outputs": [],
   "source": [
    "layers = [5, 50, 5]\n",
    "IN_DIMS = layers[0]\n",
    "OUT_DIMS = layers[-1]\n",
    "rand_poly, definition = generate_polynomial_map(IN_DIMS, OUT_DIMS)\n",
    "\n",
    "NN = Network(\n",
    "    layer_dims = layers,\n",
    "    activations = [sigmoid for _ in layers],\n",
    "    activation_derivatives = [ddx_sigmoid for _ in layers],\n",
    "    cost_function = mean_squared_error,\n",
    "    cost_gradient = mse_gradient,\n",
    "    learning_rate = 1,\n",
    "    gradient_aggregator = arithmetic_mean\n",
    ")"
   ]
  },
  {
   "cell_type": "code",
   "execution_count": 22,
   "metadata": {},
   "outputs": [],
   "source": [
    "\n",
    "# proof of gradient descent concept\n",
    "# show that average cost is apprx. monotonic decreasing over time\n",
    "test_features = [np.random.randn(IN_DIMS) for __ in range(500)]\n",
    "test_answers = [rand_poly(ftrs) for ftrs in test_features]\n",
    "for _ in range(200):\n",
    "    NN.run_epoch(test_features, test_answers)\n"
   ]
  },
  {
   "cell_type": "code",
   "execution_count": 23,
   "metadata": {},
   "outputs": [
    {
     "data": {
      "text/plain": [
       "'\\nbaseline_input = [1 for _ in range(IN_DIMS)]\\nbefore = rand_poly(baseline_input)\\n\\nfor _ in range(1000):\\n    # twenty samples per batch\\n    test_features = [np.random.randn(IN_DIMS) for __ in range(50)]\\n    test_answers = [rand_poly(ftrs) for ftrs in test_features]\\n    NN.run_epoch(test_features, test_answers)\\n    \\nafter = rand_poly(baseline_input)\\n\\nprint(before)\\nprint(after)\\n'"
      ]
     },
     "execution_count": 23,
     "metadata": {},
     "output_type": "execute_result"
    }
   ],
   "source": [
    "\"\"\"\n",
    "baseline_input = [1 for _ in range(IN_DIMS)]\n",
    "before = rand_poly(baseline_input)\n",
    "\n",
    "for _ in range(1000):\n",
    "    # twenty samples per batch\n",
    "    test_features = [np.random.randn(IN_DIMS) for __ in range(50)]\n",
    "    test_answers = [rand_poly(ftrs) for ftrs in test_features]\n",
    "    NN.run_epoch(test_features, test_answers)\n",
    "    \n",
    "after = rand_poly(baseline_input)\n",
    "\n",
    "print(before)\n",
    "print(after)\n",
    "\"\"\""
   ]
  },
  {
   "cell_type": "code",
   "execution_count": 24,
   "metadata": {},
   "outputs": [
    {
     "data": {
      "image/png": "[encoded data removed]",
      "text/plain": [
       "<Figure size 432x288 with 1 Axes>"
      ]
     },
     "metadata": {
      "needs_background": "light"
     },
     "output_type": "display_data"
    }
   ],
   "source": [
    "plt.plot(\n",
    "    [i for i in range(len(NN._epochs))],\n",
    "    [data['average_cost'] for data in NN._epochs]\n",
    ")\n",
    "plt.ylabel('Average Cost')\n",
    "plt.show()"
   ]
  },
  {
   "cell_type": "code",
   "execution_count": null,
   "metadata": {},
   "outputs": [],
   "source": []
  }
 ],
 "metadata": {
  "kernelspec": {
   "display_name": "Python [conda env:simple-net] *",
   "language": "python",
   "name": "conda-env-simple-net-py"
  },
  "language_info": {
   "codemirror_mode": {
    "name": "ipython",
    "version": 3
   },
   "file_extension": ".py",
   "mimetype": "text/x-python",
   "name": "python",
   "nbconvert_exporter": "python",
   "pygments_lexer": "ipython3",
   "version": "3.7.5"
  }
 },
 "nbformat": 4,
 "nbformat_minor": 4
}
