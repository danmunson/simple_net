{
 "cells": [
  {
   "cell_type": "code",
   "execution_count": 4,
   "metadata": {},
   "outputs": [],
   "source": [
    "import sys\n",
    "sys.path.append(\"/Users/danielmunson/dev/simple_net\")\n",
    "\n",
    "from pprint import pprint"
   ]
  },
  {
   "cell_type": "code",
   "execution_count": 5,
   "metadata": {},
   "outputs": [],
   "source": [
    "import numpy as np\n",
    "import matplotlib.pyplot as plt\n",
    "\n",
    "from simple_net.components.network import Network\n",
    "from simple_net.functions.utils import (\n",
    "    vectorize,\n",
    "    random_subset\n",
    ")\n",
    "from simple_net.functions.cost import (\n",
    "    mean_squared_error,\n",
    "    mse_gradient,\n",
    "    arithmetic_mean\n",
    ")\n",
    "from simple_net.functions.activations import (\n",
    "    sigmoid,\n",
    "    ddx_sigmoid\n",
    ")"
   ]
  },
  {
   "cell_type": "code",
   "execution_count": 8,
   "metadata": {},
   "outputs": [],
   "source": [
    "from data.load_mnist import load_mnist\n",
    "DATA_PATH = '/Users/danielmunson/dev/simple_net/data/mnist/train.csv'\n",
    "train_ftrs, train_labels = load_mnist(DATA_PATH)"
   ]
  },
  {
   "cell_type": "code",
   "execution_count": null,
   "metadata": {},
   "outputs": [],
   "source": [
    "layers = [784, 100, 10]\n",
    "IN_DIMS = layers[0]\n",
    "OUT_DIMS = layers[-1]\n",
    "\n",
    "NN = Network(\n",
    "    layer_dims = layers,\n",
    "    activations = [sigmoid for _ in layers], # will automatically vectorize\n",
    "    activation_derivatives = [ddx_sigmoid for _ in layers], # will automatically vectorize\n",
    "    cost_function = mean_squared_error,\n",
    "    cost_gradient = mse_gradient,\n",
    "    learning_rate = 1,\n",
    "    gradient_aggregator = arithmetic_mean\n",
    ")\n",
    "\n",
    "from random import choices\n",
    "BATCH_SIZE = 15\n",
    "EPOCHS = 500\n",
    "DATA_SIZE = len(train_ftrs)\n",
    "\n",
    "for _ in range(EPOCHS):\n",
    "    feature_subset, label_subset = random_subset(\n",
    "        train_ftrs,\n",
    "        train_labels,\n",
    "        BATCH_SIZE\n",
    "    )\n",
    "    \n",
    "    NN.run_epoch(feature_subset, label_subset)"
   ]
  },
  {
   "cell_type": "code",
   "execution_count": null,
   "metadata": {},
   "outputs": [],
   "source": [
    "plt.plot(\n",
    "    [i for i in range(len(NN._epochs))],\n",
    "    [data['average_cost'] for data in NN._epochs]\n",
    ")\n",
    "plt.ylabel('Average Cost')\n",
    "plt.show()"
   ]
  }
 ],
 "metadata": {
  "kernelspec": {
   "display_name": "Python [conda env:simple-net] *",
   "language": "python",
   "name": "conda-env-simple-net-py"
  },
  "language_info": {
   "codemirror_mode": {
    "name": "ipython",
    "version": 3
   },
   "file_extension": ".py",
   "mimetype": "text/x-python",
   "name": "python",
   "nbconvert_exporter": "python",
   "pygments_lexer": "ipython3",
   "version": "3.7.5"
  }
 },
 "nbformat": 4,
 "nbformat_minor": 4
}
