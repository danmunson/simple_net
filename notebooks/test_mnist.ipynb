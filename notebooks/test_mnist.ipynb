{
 "cells": [
  {
   "cell_type": "code",
   "execution_count": 1,
   "metadata": {},
   "outputs": [],
   "source": [
    "import sys\n",
    "sys.path.append(\"/Users/danielmunson/dev/simple_net\")\n",
    "\n",
    "from pprint import pprint"
   ]
  },
  {
   "cell_type": "code",
   "execution_count": 2,
   "metadata": {},
   "outputs": [],
   "source": [
    "import numpy as np\n",
    "import matplotlib.pyplot as plt\n",
    "\n",
    "from simple_net.components.network import Network\n",
    "from simple_net.functions.utils import (\n",
    "    vectorize,\n",
    "    random_subset\n",
    ")\n",
    "from simple_net.functions.cost import (\n",
    "    mean_squared_error,\n",
    "    mse_gradient,\n",
    "    arithmetic_mean\n",
    ")\n",
    "from simple_net.functions.activations import (\n",
    "    sigmoid,\n",
    "    ddx_sigmoid\n",
    ")"
   ]
  },
  {
   "cell_type": "code",
   "execution_count": 17,
   "metadata": {},
   "outputs": [],
   "source": [
    "from data.load_mnist import load_mnist\n",
    "DATA_PATH = '/Users/danielmunson/dev/simple_net/data/mnist/train.csv'\n",
    "train_ftrs, train_labels = load_mnist(DATA_PATH)"
   ]
  },
  {
   "cell_type": "code",
   "execution_count": 18,
   "metadata": {},
   "outputs": [
    {
     "name": "stdout",
     "output_type": "stream",
     "text": [
      "42000 42000\n"
     ]
    }
   ],
   "source": [
    "print(len(train_ftrs),len(train_labels))"
   ]
  },
  {
   "cell_type": "code",
   "execution_count": 4,
   "metadata": {},
   "outputs": [
    {
     "name": "stderr",
     "output_type": "stream",
     "text": [
      "/Users/danielmunson/dev/simple_net/simple_net/functions/activations.py:9: RuntimeWarning: overflow encountered in exp\n",
      "  return 1.0/(1.0+np.exp(-x))\n"
     ]
    },
    {
     "ename": "ValueError",
     "evalue": "not enough values to unpack (expected 2, got 0)",
     "output_type": "error",
     "traceback": [
      "\u001b[0;31m---------------------------------------------------------------------------\u001b[0m",
      "\u001b[0;31mValueError\u001b[0m                                Traceback (most recent call last)",
      "\u001b[0;32m<ipython-input-4-9d5d8b880596>\u001b[0m in \u001b[0;36m<module>\u001b[0;34m\u001b[0m\n\u001b[1;32m     25\u001b[0m     )\n\u001b[1;32m     26\u001b[0m \u001b[0;34m\u001b[0m\u001b[0m\n\u001b[0;32m---> 27\u001b[0;31m     \u001b[0mNN\u001b[0m\u001b[0;34m.\u001b[0m\u001b[0mrun_epoch\u001b[0m\u001b[0;34m(\u001b[0m\u001b[0mfeature_subset\u001b[0m\u001b[0;34m,\u001b[0m \u001b[0mlabel_subset\u001b[0m\u001b[0;34m)\u001b[0m\u001b[0;34m\u001b[0m\u001b[0;34m\u001b[0m\u001b[0m\n\u001b[0m",
      "\u001b[0;32m~/dev/simple_net/simple_net/components/network.py\u001b[0m in \u001b[0;36mrun_epoch\u001b[0;34m(self, features, actuals)\u001b[0m\n\u001b[1;32m     70\u001b[0m         \u001b[0minputs\u001b[0m\u001b[0;34m,\u001b[0m \u001b[0mresps\u001b[0m \u001b[0;34m=\u001b[0m \u001b[0mdeepcopy\u001b[0m\u001b[0;34m(\u001b[0m\u001b[0mfeatures\u001b[0m\u001b[0;34m)\u001b[0m\u001b[0;34m,\u001b[0m \u001b[0mdeepcopy\u001b[0m\u001b[0;34m(\u001b[0m\u001b[0mactuals\u001b[0m\u001b[0;34m)\u001b[0m\u001b[0;34m\u001b[0m\u001b[0;34m\u001b[0m\u001b[0m\n\u001b[1;32m     71\u001b[0m         \u001b[0moutputs\u001b[0m \u001b[0;34m=\u001b[0m \u001b[0mself\u001b[0m\u001b[0;34m.\u001b[0m\u001b[0mfeed_batch\u001b[0m\u001b[0;34m(\u001b[0m\u001b[0minputs\u001b[0m\u001b[0;34m)\u001b[0m\u001b[0;34m\u001b[0m\u001b[0;34m\u001b[0m\u001b[0m\n\u001b[0;32m---> 72\u001b[0;31m         \u001b[0magg_gradient\u001b[0m\u001b[0;34m,\u001b[0m \u001b[0mcosts\u001b[0m\u001b[0;34m,\u001b[0m \u001b[0mgradients\u001b[0m \u001b[0;34m=\u001b[0m \u001b[0mself\u001b[0m\u001b[0;34m.\u001b[0m\u001b[0mcompute_cost\u001b[0m\u001b[0;34m(\u001b[0m\u001b[0moutputs\u001b[0m\u001b[0;34m,\u001b[0m \u001b[0mresps\u001b[0m\u001b[0;34m)\u001b[0m\u001b[0;34m\u001b[0m\u001b[0;34m\u001b[0m\u001b[0m\n\u001b[0m\u001b[1;32m     73\u001b[0m         \u001b[0mself\u001b[0m\u001b[0;34m.\u001b[0m\u001b[0mback_prop\u001b[0m\u001b[0;34m(\u001b[0m\u001b[0magg_gradient\u001b[0m\u001b[0;34m)\u001b[0m\u001b[0;34m\u001b[0m\u001b[0;34m\u001b[0m\u001b[0m\n\u001b[1;32m     74\u001b[0m         self._epochs.append({\n",
      "\u001b[0;32m~/dev/simple_net/simple_net/components/network.py\u001b[0m in \u001b[0;36mcompute_cost\u001b[0;34m(self, predictions, actuals)\u001b[0m\n\u001b[1;32m     52\u001b[0m             )\n\u001b[1;32m     53\u001b[0m             \u001b[0;32mfor\u001b[0m \u001b[0mprediction\u001b[0m\u001b[0;34m,\u001b[0m \u001b[0mactual\u001b[0m \u001b[0;32min\u001b[0m\u001b[0;34m\u001b[0m\u001b[0;34m\u001b[0m\u001b[0m\n\u001b[0;32m---> 54\u001b[0;31m             \u001b[0mzip\u001b[0m\u001b[0;34m(\u001b[0m\u001b[0mpredictions\u001b[0m\u001b[0;34m,\u001b[0m \u001b[0mactuals\u001b[0m\u001b[0;34m)\u001b[0m\u001b[0;34m\u001b[0m\u001b[0;34m\u001b[0m\u001b[0m\n\u001b[0m\u001b[1;32m     55\u001b[0m         ])\n\u001b[1;32m     56\u001b[0m         \u001b[0magg_cost_gradient\u001b[0m \u001b[0;34m=\u001b[0m \u001b[0mself\u001b[0m\u001b[0;34m.\u001b[0m\u001b[0mgradient_aggregator\u001b[0m\u001b[0;34m(\u001b[0m\u001b[0mcost_gradients\u001b[0m\u001b[0;34m)\u001b[0m\u001b[0;34m\u001b[0m\u001b[0;34m\u001b[0m\u001b[0m\n",
      "\u001b[0;31mValueError\u001b[0m: not enough values to unpack (expected 2, got 0)"
     ]
    }
   ],
   "source": [
    "layers = [784, 100, 10]\n",
    "IN_DIMS = layers[0]\n",
    "OUT_DIMS = layers[-1]\n",
    "\n",
    "NN = Network(\n",
    "    layer_dims = layers,\n",
    "    activations = [sigmoid for _ in layers], # will automatically vectorize\n",
    "    activation_derivatives = [ddx_sigmoid for _ in layers], # will automatically vectorize\n",
    "    cost_function = mean_squared_error,\n",
    "    cost_gradient = mse_gradient,\n",
    "    learning_rate = 1,\n",
    "    gradient_aggregator = arithmetic_mean\n",
    ")\n",
    "\n",
    "from random import choices\n",
    "BATCH_SIZE = 15\n",
    "EPOCHS = 500\n",
    "DATA_SIZE = len(train_ftrs)\n",
    "\n",
    "for _ in range(EPOCHS):\n",
    "    feature_subset, label_subset = random_subset(\n",
    "        train_ftrs,\n",
    "        train_labels,\n",
    "        BATCH_SIZE\n",
    "    )\n",
    "    \n",
    "    NN.run_epoch(feature_subset, label_subset)"
   ]
  },
  {
   "cell_type": "code",
   "execution_count": null,
   "metadata": {},
   "outputs": [],
   "source": [
    "plt.plot(\n",
    "    [i for i in range(len(NN._epochs))],\n",
    "    [data['average_cost'] for data in NN._epochs]\n",
    ")\n",
    "plt.ylabel('Average Cost')\n",
    "plt.show()"
   ]
  }
 ],
 "metadata": {
  "kernelspec": {
   "display_name": "Python [conda env:simple-net] *",
   "language": "python",
   "name": "conda-env-simple-net-py"
  },
  "language_info": {
   "codemirror_mode": {
    "name": "ipython",
    "version": 3
   },
   "file_extension": ".py",
   "mimetype": "text/x-python",
   "name": "python",
   "nbconvert_exporter": "python",
   "pygments_lexer": "ipython3",
   "version": "3.7.5"
  }
 },
 "nbformat": 4,
 "nbformat_minor": 4
}
